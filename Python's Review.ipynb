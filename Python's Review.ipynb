{
 "cells": [
  {
   "cell_type": "code",
   "execution_count": 19,
   "metadata": {},
   "outputs": [
    {
     "name": "stdout",
     "output_type": "stream",
     "text": [
      "1.5\n",
      "a = 3\n",
      "b = 2\n"
     ]
    }
   ],
   "source": [
    "# Números aleatórios: \n",
    "import random\n",
    "\n",
    "a = random.randint(0, 3)\n",
    "b = random.randint(0, 4)\n",
    "\n",
    "if b>0:\n",
    "    o = a/b\n",
    "    print(o)\n",
    "elif b==0:\n",
    "    print('Não é permitido divisor igual a 0.')\n",
    "print('a = {}\\nb = {}' .format(a, b))"
   ]
  },
  {
   "cell_type": "code",
   "execution_count": 23,
   "metadata": {},
   "outputs": [
    {
     "name": "stdout",
     "output_type": "stream",
     "text": [
      "[1, 2, 3, 4]\n",
      "[1, 8, 27, 64]\n",
      "[2, 4]\n"
     ]
    }
   ],
   "source": [
    "# List Comprehension:\n",
    "x = [1, 2, 3, 4]\n",
    "y = [i**3 for i in x]\n",
    "z = [i for i in x if i%2==0]\n",
    "\n",
    "print(x)\n",
    "print(y)\n",
    "print(z)"
   ]
  },
  {
   "cell_type": "code",
   "execution_count": 24,
   "metadata": {},
   "outputs": [
    {
     "name": "stdout",
     "output_type": "stream",
     "text": [
      "0 lolo\n",
      "1 jorge\n",
      "2 goiaba\n"
     ]
    }
   ],
   "source": [
    "# Enumerate: \n",
    "\n",
    "lista = ['lolo', 'jorge', 'goiaba']\n",
    "\n",
    "for e, nome in enumerate(lista):\n",
    "    print(e, nome)"
   ]
  },
  {
   "cell_type": "code",
   "execution_count": 27,
   "metadata": {},
   "outputs": [
    {
     "name": "stdout",
     "output_type": "stream",
     "text": [
      "[2, 4, 6, 8, 10]\n"
     ]
    }
   ],
   "source": [
    "# Filter: Filtrando apenas os valores pares por exemplo ...\n",
    "\n",
    "def pares(u):\n",
    "    if u %2==0:\n",
    "        return u\n",
    "\n",
    "lis = [1, 2, 3, 4, 5, 6, 7, 8, 9, 10]\n",
    "lista_pares = filter(pares, lis)\n",
    "print(list(lista_pares))"
   ]
  },
  {
   "cell_type": "code",
   "execution_count": 30,
   "metadata": {},
   "outputs": [
    {
     "name": "stdout",
     "output_type": "stream",
     "text": [
      "61\n"
     ]
    }
   ],
   "source": [
    "# Função Reduce:\n",
    "from functools import reduce\n",
    "def soma(x, y):\n",
    "    return x+y\n",
    "lista2 = [1, 10, 20, 30]\n",
    "\n",
    "soma = reduce(soma, lista2)\n",
    "print(soma)"
   ]
  },
  {
   "cell_type": "code",
   "execution_count": 34,
   "metadata": {},
   "outputs": [
    {
     "name": "stdout",
     "output_type": "stream",
     "text": [
      "1 amora R$ 1,00\n",
      "2 boiola R$ 2,00\n",
      "3 ceroto R$ 3,00\n",
      "4 dedinho R$ 4,00\n"
     ]
    }
   ],
   "source": [
    "# Zip: Compactando duas ou mais listas...\n",
    "lista3 = [1, 2, 3, 4]\n",
    "lista4 = ['amora', 'boiola', 'ceroto', 'dedinho']\n",
    "lista5 = ['R$ 1,00', 'R$ 2,00', 'R$ 3,00', 'R$ 4,00']\n",
    "for numero, nome, valor in zip(lista3, lista4, lista5):\n",
    "    print(numero, nome, valor)\n"
   ]
  },
  {
   "cell_type": "code",
   "execution_count": 35,
   "metadata": {},
   "outputs": [
    {
     "name": "stdout",
     "output_type": "stream",
     "text": [
      "[4, 6, 8, 10]\n"
     ]
    }
   ],
   "source": [
    "# Map: \n",
    "\n",
    "def dobro(x):\n",
    "    return x*2\n",
    "\n",
    "valor = [2, 3, 4, 5]\n",
    "valor_dobrado = map(dobro, valor)\n",
    "valor_dobrado = list(valor_dobrado)\n",
    "print(valor_dobrado)"
   ]
  },
  {
   "cell_type": "code",
   "execution_count": 36,
   "metadata": {},
   "outputs": [
    {
     "name": "stdout",
     "output_type": "stream",
     "text": [
      "[4, 6, 8, 10]\n"
     ]
    }
   ],
   "source": [
    "# Lambda: Criar uma função que será executada uma única vez . . .\n",
    "\n",
    "valor = [2, 3, 4, 5]\n",
    "valor_dobrado = map(lambda i: i*2, valor)\n",
    "\n",
    "valor_dobrado = list(valor_dobrado)\n",
    "print(valor_dobrado)"
   ]
  },
  {
   "cell_type": "code",
   "execution_count": null,
   "metadata": {},
   "outputs": [],
   "source": []
  }
 ],
 "metadata": {
  "kernelspec": {
   "display_name": "Python 3",
   "language": "python",
   "name": "python3"
  },
  "language_info": {
   "codemirror_mode": {
    "name": "ipython",
    "version": 3
   },
   "file_extension": ".py",
   "mimetype": "text/x-python",
   "name": "python",
   "nbconvert_exporter": "python",
   "pygments_lexer": "ipython3",
   "version": "3.7.3"
  }
 },
 "nbformat": 4,
 "nbformat_minor": 2
}
